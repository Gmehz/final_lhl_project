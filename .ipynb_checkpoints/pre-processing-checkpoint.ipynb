{
 "cells": [
  {
   "cell_type": "markdown",
   "id": "dd338536-ef04-4681-a5df-e94cb7208613",
   "metadata": {},
   "source": [
    "### **Step 2: Pre-processing**"
   ]
  },
  {
   "cell_type": "code",
   "execution_count": 4,
   "id": "0c09e1f1-18be-4dd7-a4e3-7ad535bc3664",
   "metadata": {
    "tags": []
   },
   "outputs": [],
   "source": [
    "# Import thr required libraries\n",
    "import pandas as pd\n",
    "import numpy as np\n",
    "import matplotlib.pyplot as plt\n",
    "import seaborn as sns\n",
    "import nltk\n",
    "from nltk.tokenize import RegexpTokenizer\n",
    "from nltk.stem import WordNetLemmatizer\n",
    "from nltk.corpus import stopwords\n",
    "import re  # Import Regular expression operations library\n",
    "from sklearn.feature_extraction.text import CountVectorizer\n",
    "from sklearn.preprocessing import LabelEncoder\n"
   ]
  },
  {
   "cell_type": "code",
   "execution_count": 5,
   "id": "e635fa94-3444-4259-9c9c-fa91683714dd",
   "metadata": {
    "tags": []
   },
   "outputs": [
    {
     "data": {
      "text/html": [
       "<div>\n",
       "<style scoped>\n",
       "    .dataframe tbody tr th:only-of-type {\n",
       "        vertical-align: middle;\n",
       "    }\n",
       "\n",
       "    .dataframe tbody tr th {\n",
       "        vertical-align: top;\n",
       "    }\n",
       "\n",
       "    .dataframe thead th {\n",
       "        text-align: right;\n",
       "    }\n",
       "</style>\n",
       "<table border=\"1\" class=\"dataframe\">\n",
       "  <thead>\n",
       "    <tr style=\"text-align: right;\">\n",
       "      <th></th>\n",
       "      <th>label</th>\n",
       "      <th>text</th>\n",
       "      <th>description_length</th>\n",
       "      <th>word_count</th>\n",
       "    </tr>\n",
       "  </thead>\n",
       "  <tbody>\n",
       "    <tr>\n",
       "      <th>0</th>\n",
       "      <td>Psoriasis</td>\n",
       "      <td>I have been experiencing a skin rash on my arm...</td>\n",
       "      <td>141</td>\n",
       "      <td>28</td>\n",
       "    </tr>\n",
       "    <tr>\n",
       "      <th>1</th>\n",
       "      <td>Psoriasis</td>\n",
       "      <td>My skin has been peeling, especially on my kne...</td>\n",
       "      <td>138</td>\n",
       "      <td>23</td>\n",
       "    </tr>\n",
       "  </tbody>\n",
       "</table>\n",
       "</div>"
      ],
      "text/plain": [
       "       label                                               text  \\\n",
       "0  Psoriasis  I have been experiencing a skin rash on my arm...   \n",
       "1  Psoriasis  My skin has been peeling, especially on my kne...   \n",
       "\n",
       "   description_length  word_count  \n",
       "0                 141          28  \n",
       "1                 138          23  "
      ]
     },
     "execution_count": 5,
     "metadata": {},
     "output_type": "execute_result"
    }
   ],
   "source": [
    "# Load the file and display the first 2 rows\n",
    "df =pd.read_csv('cleaned_df.csv')\n",
    "df.head(2)"
   ]
  },
  {
   "cell_type": "code",
   "execution_count": 6,
   "id": "d00e69d5-3a39-420a-ac56-e12838217914",
   "metadata": {
    "tags": []
   },
   "outputs": [
    {
     "data": {
      "text/plain": [
       "(1153, 4)"
      ]
     },
     "execution_count": 6,
     "metadata": {},
     "output_type": "execute_result"
    }
   ],
   "source": [
    "df.shape"
   ]
  },
  {
   "cell_type": "code",
   "execution_count": 7,
   "id": "f16ce67b-d778-490f-bdaf-b6efbaeb2a55",
   "metadata": {
    "tags": []
   },
   "outputs": [
    {
     "name": "stderr",
     "output_type": "stream",
     "text": [
      "[nltk_data] Downloading package stopwords to\n",
      "[nltk_data]     C:\\Users\\CFS\\AppData\\Roaming\\nltk_data...\n",
      "[nltk_data]   Package stopwords is already up-to-date!\n"
     ]
    },
    {
     "data": {
      "text/plain": [
       "True"
      ]
     },
     "execution_count": 7,
     "metadata": {},
     "output_type": "execute_result"
    }
   ],
   "source": [
    "# Download the NLTK's stopwords dataset\n",
    "nltk.download('stopwords')"
   ]
  },
  {
   "cell_type": "markdown",
   "id": "8543d0f1-15d4-4960-8909-c92485ad7db8",
   "metadata": {},
   "source": [
    "##### I have decided to customize the stopwords because my dataset contains many words that are not relevant to the disease.\n",
    "##### Also I am removing the last 100 most common words from the words list because they occur only once and they have no relevancy to the diseases.\n"
   ]
  },
  {
   "cell_type": "code",
   "execution_count": 37,
   "id": "2d3266cf-953f-48a3-be55-e75c82c48623",
   "metadata": {
    "tags": []
   },
   "outputs": [],
   "source": [
    "# Initialize lemmatizer \n",
    "lemmatizer = WordNetLemmatizer()\n",
    "\n",
    "english_stopwords = set(stopwords.words('english'))\n",
    "\n",
    "# Customize stopwords ( apart from stopwords there are other words that are not useful for predictions and that appear only once)\n",
    "custom_stopwords = [\"feeling\", \"also\", \"lot\", \"get\", \"like\", \"recently\", \"really\", \"experiencing\", \"feel\", \"quite\", \"time\", \"additionally\",\"since\",\n",
    "                   \"zone\", \"generate\", \"fully\", \"show\", \"showing\", \"frustrated\", \"sickly\", \"frantically\", \"fragrance\",\"similar\", \"skill\", \n",
    "                    \"sky\", \"following\", \"gnawing\", \"illness\", \"scarcely\", \"horribly\", \"sclap\", \"helping\", \"hello\", \"hell\",\"poorly\", \"popping\", \n",
    "                   \"heated\", \"harder\",\"hearbeat\", \"happened\", \"heap\", \"government\", \"practically\", \"dont\", \"yet\", \"quick\", \"bothersome\",\"thiis\", \"these\",\n",
    "                   \"three\", \"contain\", \"contains\", \"spirit\", \"pressured\", \"prevents\", \"problematic\",\"pressed\", \"powder\", \"produce\", \"decline\", \"decrease\",\n",
    "                   \"deep\", \"delicate\", \"presence\", \"stain\",\"continious\", \"product\", \"gloomy\", \"focused\", \"continued\", \"thanks\", \"fluctuation\", \"crease\",\n",
    "                    \"coordination\", \"copious\", \"persistant\", \"fold\", \"persitent\", \"position\", \"flushing\", \"pine\"]\n",
    "\n",
    "# Add words from the tail of word_freq\n",
    "words_to_add = word_freq.sort_values(ascending=False).tail(100).index.tolist()\n",
    "custom_stopwords.extend(words_to_add)\n",
    "\n",
    "\n",
    "english_stopwords.update(custom_stopwords)\n"
   ]
  },
  {
   "cell_type": "code",
   "execution_count": 38,
   "id": "d7069d02-e78c-4a7e-8aec-d0fcd0c1e7e2",
   "metadata": {
    "tags": []
   },
   "outputs": [],
   "source": [
    "def preprocess(sentence):\n",
    "    # Convert sentence to string and to lower case\n",
    "    sentence = str(sentence).lower()\n",
    "\n",
    "    # Replace HTML tags with empty strings\n",
    "    cleanr = re.compile('<.*?>')\n",
    "    cleantext = re.sub(cleanr, '', sentence)\n",
    "    \n",
    "    # Remove URLs and numbers\n",
    "    rem_url = re.sub(r'http\\S+', '', cleantext)\n",
    "    rem_num = re.sub('[0-9]+', '', rem_url)\n",
    "    \n",
    "    # Tokenize the text\n",
    "    tokenizer = RegexpTokenizer(r'\\w+')\n",
    "    tokens = tokenizer.tokenize(rem_num)\n",
    "    \n",
    "    # Filter out the stop words\n",
    "    filtered_words = [w for w in tokens if w not in english_stopwords]\n",
    "    \n",
    "    # Lemmatization\n",
    "    lemma_words = [lemmatizer.lemmatize(w) for w in filtered_words]\n",
    "    \n",
    "    return \" \".join(lemma_words)\n"
   ]
  },
  {
   "cell_type": "code",
   "execution_count": 39,
   "id": "bf9b92dc-ff79-49c7-8d16-099b01244347",
   "metadata": {
    "tags": []
   },
   "outputs": [],
   "source": [
    "df['preprocessed_text'] = df['text'].map(lambda s: preprocess(s))\n"
   ]
  },
  {
   "cell_type": "code",
   "execution_count": 40,
   "id": "723d8abd-1f3e-418e-899f-c3d8627c0644",
   "metadata": {
    "tags": []
   },
   "outputs": [],
   "source": [
    "# Count the number of words using CountVectorizer\n",
    "vectorizer = CountVectorizer()\n",
    "X = vectorizer.fit_transform(df['preprocessed_text'])\n",
    "\n",
    "# Convert to a DataFrame and sum each column for word frequencies\n",
    "word_freq = pd.DataFrame(X.toarray(), columns=vectorizer.get_feature_names_out()).sum()"
   ]
  },
  {
   "cell_type": "code",
   "execution_count": 42,
   "id": "2804f80e-4951-44e6-9bb1-a48ade893a30",
   "metadata": {
    "tags": []
   },
   "outputs": [
    {
     "name": "stdout",
     "output_type": "stream",
     "text": [
      "skin          365\n",
      "pain          306\n",
      "fever         233\n",
      "rash          194\n",
      "high          189\n",
      "headache      188\n",
      "neck          172\n",
      "chest         146\n",
      "cough         143\n",
      "hurt          138\n",
      "muscle        128\n",
      "throat        127\n",
      "sore          116\n",
      "red           114\n",
      "body          109\n",
      "severe        109\n",
      "back           97\n",
      "itching        96\n",
      "discomfort     95\n",
      "weak           93\n",
      "dtype: int64\n"
     ]
    }
   ],
   "source": [
    "# Display the most common words\n",
    "print(word_freq.sort_values(ascending=False).head(20))\n"
   ]
  },
  {
   "cell_type": "code",
   "execution_count": 43,
   "id": "a1fcbdf5-3e97-416d-a6dc-66c9ee4cb13b",
   "metadata": {
    "tags": []
   },
   "outputs": [
    {
     "data": {
      "text/html": [
       "<div>\n",
       "<style scoped>\n",
       "    .dataframe tbody tr th:only-of-type {\n",
       "        vertical-align: middle;\n",
       "    }\n",
       "\n",
       "    .dataframe tbody tr th {\n",
       "        vertical-align: top;\n",
       "    }\n",
       "\n",
       "    .dataframe thead th {\n",
       "        text-align: right;\n",
       "    }\n",
       "</style>\n",
       "<table border=\"1\" class=\"dataframe\">\n",
       "  <thead>\n",
       "    <tr style=\"text-align: right;\">\n",
       "      <th></th>\n",
       "      <th>label</th>\n",
       "      <th>text</th>\n",
       "      <th>description_length</th>\n",
       "      <th>word_count</th>\n",
       "      <th>preprocessed_text</th>\n",
       "    </tr>\n",
       "  </thead>\n",
       "  <tbody>\n",
       "    <tr>\n",
       "      <th>0</th>\n",
       "      <td>Psoriasis</td>\n",
       "      <td>I have been experiencing a skin rash on my arm...</td>\n",
       "      <td>141</td>\n",
       "      <td>28</td>\n",
       "      <td>skin rash arm leg torso past week red itchy co...</td>\n",
       "    </tr>\n",
       "    <tr>\n",
       "      <th>1</th>\n",
       "      <td>Psoriasis</td>\n",
       "      <td>My skin has been peeling, especially on my kne...</td>\n",
       "      <td>138</td>\n",
       "      <td>23</td>\n",
       "      <td>skin peeling especially knee elbow scalp peeli...</td>\n",
       "    </tr>\n",
       "    <tr>\n",
       "      <th>2</th>\n",
       "      <td>Psoriasis</td>\n",
       "      <td>I have been experiencing joint pain in my fing...</td>\n",
       "      <td>148</td>\n",
       "      <td>28</td>\n",
       "      <td>joint pain finger wrist knee pain often achy t...</td>\n",
       "    </tr>\n",
       "    <tr>\n",
       "      <th>3</th>\n",
       "      <td>Psoriasis</td>\n",
       "      <td>There is a silver like dusting on my skin, esp...</td>\n",
       "      <td>164</td>\n",
       "      <td>32</td>\n",
       "      <td>silver dusting skin especially lower back scal...</td>\n",
       "    </tr>\n",
       "    <tr>\n",
       "      <th>4</th>\n",
       "      <td>Psoriasis</td>\n",
       "      <td>My nails have small dents or pits in them, and...</td>\n",
       "      <td>140</td>\n",
       "      <td>27</td>\n",
       "      <td>nail small dent pit often inflammatory tender ...</td>\n",
       "    </tr>\n",
       "  </tbody>\n",
       "</table>\n",
       "</div>"
      ],
      "text/plain": [
       "       label                                               text  \\\n",
       "0  Psoriasis  I have been experiencing a skin rash on my arm...   \n",
       "1  Psoriasis  My skin has been peeling, especially on my kne...   \n",
       "2  Psoriasis  I have been experiencing joint pain in my fing...   \n",
       "3  Psoriasis  There is a silver like dusting on my skin, esp...   \n",
       "4  Psoriasis  My nails have small dents or pits in them, and...   \n",
       "\n",
       "   description_length  word_count  \\\n",
       "0                 141          28   \n",
       "1                 138          23   \n",
       "2                 148          28   \n",
       "3                 164          32   \n",
       "4                 140          27   \n",
       "\n",
       "                                   preprocessed_text  \n",
       "0  skin rash arm leg torso past week red itchy co...  \n",
       "1  skin peeling especially knee elbow scalp peeli...  \n",
       "2  joint pain finger wrist knee pain often achy t...  \n",
       "3  silver dusting skin especially lower back scal...  \n",
       "4  nail small dent pit often inflammatory tender ...  "
      ]
     },
     "execution_count": 43,
     "metadata": {},
     "output_type": "execute_result"
    }
   ],
   "source": [
    "df.head()"
   ]
  },
  {
   "cell_type": "code",
   "execution_count": 44,
   "id": "39307af5-a5b7-4c91-9822-567398b8903a",
   "metadata": {
    "tags": []
   },
   "outputs": [
    {
     "data": {
      "image/png": "[encoded data removed]",
      "text/plain": [
       "<Figure size 640x480 with 1 Axes>"
      ]
     },
     "metadata": {},
     "output_type": "display_data"
    }
   ],
   "source": [
    "# Plot a histogram of the length of the symptom descriptions\n",
    "plt.hist(df['preprocessed_text'].apply(lambda x: len(x.split())), bins=50)\n",
    "plt.xlabel('Length of symptom description')\n",
    "plt.ylabel('Frequency')\n",
    "plt.show()"
   ]
  },
  {
   "cell_type": "code",
   "execution_count": 45,
   "id": "3eb7cd99-e747-421c-b38b-39be157e2dc4",
   "metadata": {
    "tags": []
   },
   "outputs": [
    {
     "name": "stdout",
     "output_type": "stream",
     "text": [
      "Number of unique words: 1196\n"
     ]
    }
   ],
   "source": [
    "# Print the number of unique words\n",
    "print(\"Number of unique words:\", len(word_freq))"
   ]
  },
  {
   "cell_type": "code",
   "execution_count": 46,
   "id": "c6dab3e2-70fb-4592-8f3c-ed524e36f421",
   "metadata": {
    "tags": []
   },
   "outputs": [],
   "source": [
    "# Encode label column\n",
    "from sklearn.preprocessing import LabelEncoder\n",
    "\n",
    "# Initialize a LabelEncoder\n",
    "encoder = LabelEncoder() \n",
    "\n",
    "# Fit the encoder to the labels and transform the labels\n",
    "df['Label_encoded'] = encoder.fit_transform(df['label'])\n"
   ]
  },
  {
   "cell_type": "code",
   "execution_count": 47,
   "id": "ed23a50c-2caf-4fa5-94d2-42399f7cf50e",
   "metadata": {
    "tags": []
   },
   "outputs": [
    {
     "name": "stdout",
     "output_type": "stream",
     "text": [
      "['Acne' 'Arthritis' 'Bronchial Asthma' 'Cervical spondylosis'\n",
      " 'Chicken pox' 'Common Cold' 'Dengue' 'Dimorphic Hemorrhoids'\n",
      " 'Fungal infection' 'Hypertension' 'Impetigo' 'Jaundice' 'Malaria'\n",
      " 'Migraine' 'Pneumonia' 'Psoriasis' 'Typhoid' 'Varicose Veins' 'allergy'\n",
      " 'diabetes' 'drug reaction' 'gastroesophageal reflux disease'\n",
      " 'peptic ulcer disease' 'urinary tract infection']\n"
     ]
    }
   ],
   "source": [
    "print(encoder.classes_)\n"
   ]
  },
  {
   "cell_type": "code",
   "execution_count": 48,
   "id": "4ee49bf1-deeb-4fb5-9a52-ec74e47183db",
   "metadata": {
    "tags": []
   },
   "outputs": [
    {
     "name": "stdout",
     "output_type": "stream",
     "text": [
      "       label  Label_encoded\n",
      "0  Psoriasis             15\n",
      "1  Psoriasis             15\n",
      "2  Psoriasis             15\n",
      "3  Psoriasis             15\n",
      "4  Psoriasis             15\n",
      "5  Psoriasis             15\n",
      "6  Psoriasis             15\n",
      "7  Psoriasis             15\n",
      "8  Psoriasis             15\n",
      "9  Psoriasis             15\n"
     ]
    }
   ],
   "source": [
    "# Print Label names and the corresponding label number\n",
    "print(df[['label', 'Label_encoded']].head(10))\n"
   ]
  },
  {
   "cell_type": "code",
   "execution_count": 49,
   "id": "040d2f8b-c087-4b58-a719-30e1932075ee",
   "metadata": {
    "tags": []
   },
   "outputs": [
    {
     "data": {
      "text/plain": [
       "['label_encoder.pkl']"
      ]
     },
     "execution_count": 49,
     "metadata": {},
     "output_type": "execute_result"
    }
   ],
   "source": [
    "# Save LabelEncoder\n",
    "import joblib\n",
    "joblib.dump(encoder, 'label_encoder.pkl')\n"
   ]
  },
  {
   "cell_type": "code",
   "execution_count": 50,
   "id": "6bcacf79-85fb-4454-a9e3-ee4438dfb377",
   "metadata": {
    "tags": []
   },
   "outputs": [
    {
     "data": {
      "text/html": [
       "<div>\n",
       "<style scoped>\n",
       "    .dataframe tbody tr th:only-of-type {\n",
       "        vertical-align: middle;\n",
       "    }\n",
       "\n",
       "    .dataframe tbody tr th {\n",
       "        vertical-align: top;\n",
       "    }\n",
       "\n",
       "    .dataframe thead th {\n",
       "        text-align: right;\n",
       "    }\n",
       "</style>\n",
       "<table border=\"1\" class=\"dataframe\">\n",
       "  <thead>\n",
       "    <tr style=\"text-align: right;\">\n",
       "      <th></th>\n",
       "      <th>label</th>\n",
       "      <th>text</th>\n",
       "      <th>description_length</th>\n",
       "      <th>word_count</th>\n",
       "      <th>preprocessed_text</th>\n",
       "      <th>Label_encoded</th>\n",
       "    </tr>\n",
       "  </thead>\n",
       "  <tbody>\n",
       "    <tr>\n",
       "      <th>0</th>\n",
       "      <td>Psoriasis</td>\n",
       "      <td>I have been experiencing a skin rash on my arm...</td>\n",
       "      <td>141</td>\n",
       "      <td>28</td>\n",
       "      <td>skin rash arm leg torso past week red itchy co...</td>\n",
       "      <td>15</td>\n",
       "    </tr>\n",
       "    <tr>\n",
       "      <th>1</th>\n",
       "      <td>Psoriasis</td>\n",
       "      <td>My skin has been peeling, especially on my kne...</td>\n",
       "      <td>138</td>\n",
       "      <td>23</td>\n",
       "      <td>skin peeling especially knee elbow scalp peeli...</td>\n",
       "      <td>15</td>\n",
       "    </tr>\n",
       "    <tr>\n",
       "      <th>2</th>\n",
       "      <td>Psoriasis</td>\n",
       "      <td>I have been experiencing joint pain in my fing...</td>\n",
       "      <td>148</td>\n",
       "      <td>28</td>\n",
       "      <td>joint pain finger wrist knee pain often achy t...</td>\n",
       "      <td>15</td>\n",
       "    </tr>\n",
       "    <tr>\n",
       "      <th>3</th>\n",
       "      <td>Psoriasis</td>\n",
       "      <td>There is a silver like dusting on my skin, esp...</td>\n",
       "      <td>164</td>\n",
       "      <td>32</td>\n",
       "      <td>silver dusting skin especially lower back scal...</td>\n",
       "      <td>15</td>\n",
       "    </tr>\n",
       "    <tr>\n",
       "      <th>4</th>\n",
       "      <td>Psoriasis</td>\n",
       "      <td>My nails have small dents or pits in them, and...</td>\n",
       "      <td>140</td>\n",
       "      <td>27</td>\n",
       "      <td>nail small dent pit often inflammatory tender ...</td>\n",
       "      <td>15</td>\n",
       "    </tr>\n",
       "  </tbody>\n",
       "</table>\n",
       "</div>"
      ],
      "text/plain": [
       "       label                                               text  \\\n",
       "0  Psoriasis  I have been experiencing a skin rash on my arm...   \n",
       "1  Psoriasis  My skin has been peeling, especially on my kne...   \n",
       "2  Psoriasis  I have been experiencing joint pain in my fing...   \n",
       "3  Psoriasis  There is a silver like dusting on my skin, esp...   \n",
       "4  Psoriasis  My nails have small dents or pits in them, and...   \n",
       "\n",
       "   description_length  word_count  \\\n",
       "0                 141          28   \n",
       "1                 138          23   \n",
       "2                 148          28   \n",
       "3                 164          32   \n",
       "4                 140          27   \n",
       "\n",
       "                                   preprocessed_text  Label_encoded  \n",
       "0  skin rash arm leg torso past week red itchy co...             15  \n",
       "1  skin peeling especially knee elbow scalp peeli...             15  \n",
       "2  joint pain finger wrist knee pain often achy t...             15  \n",
       "3  silver dusting skin especially lower back scal...             15  \n",
       "4  nail small dent pit often inflammatory tender ...             15  "
      ]
     },
     "execution_count": 50,
     "metadata": {},
     "output_type": "execute_result"
    }
   ],
   "source": [
    "df.head()"
   ]
  },
  {
   "cell_type": "code",
   "execution_count": 51,
   "id": "d1fe8d0b-2131-4a46-a995-2111c90b0704",
   "metadata": {
    "tags": []
   },
   "outputs": [],
   "source": [
    "# Save the pre-processed dataframe as a csv file\n",
    "df.to_csv('processed_data.csv', index=False)"
   ]
  },
  {
   "cell_type": "code",
   "execution_count": 52,
   "id": "40a321e4-c21a-4282-bc7d-03af9ebb2065",
   "metadata": {
    "tags": []
   },
   "outputs": [
    {
     "data": {
      "text/plain": [
       "(1153, 6)"
      ]
     },
     "execution_count": 52,
     "metadata": {},
     "output_type": "execute_result"
    }
   ],
   "source": [
    "df.shape"
   ]
  }
 ],
 "metadata": {
  "kernelspec": {
   "display_name": "Python 3 (ipykernel)",
   "language": "python",
   "name": "python3"
  },
  "language_info": {
   "codemirror_mode": {
    "name": "ipython",
    "version": 3
   },
   "file_extension": ".py",
   "mimetype": "text/x-python",
   "name": "python",
   "nbconvert_exporter": "python",
   "pygments_lexer": "ipython3",
   "version": "3.10.9"
  }
 },
 "nbformat": 4,
 "nbformat_minor": 5
}
